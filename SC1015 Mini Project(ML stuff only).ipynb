{
 "cells": [
  {
   "cell_type": "markdown",
   "id": "ec35a8cb",
   "metadata": {},
   "source": [
    "# Car Insurance Claim Prediction"
   ]
  },
  {
   "cell_type": "code",
   "execution_count": 32,
   "id": "21b8c8c1",
   "metadata": {
    "ExecuteTime": {
     "end_time": "2024-04-18T09:06:27.812323Z",
     "start_time": "2024-04-18T09:06:27.708299Z"
    }
   },
   "outputs": [],
   "source": [
    "import numpy as np\n",
    "import pandas as pd\n",
    "import seaborn as sb\n",
    "import seaborn as sns\n",
    "import matplotlib.pyplot as plt\n",
    "sb.set()"
   ]
  },
  {
   "cell_type": "code",
   "execution_count": 33,
   "id": "a91668fc",
   "metadata": {
    "ExecuteTime": {
     "end_time": "2024-04-18T09:06:28.796591Z",
     "start_time": "2024-04-18T09:06:27.815845Z"
    }
   },
   "outputs": [
    {
     "data": {
      "text/plain": "  policy_id  policy_tenure  age_of_car  age_of_policyholder area_cluster  \\\n0   ID00001       0.515874        0.05             0.644231           C1   \n1   ID00002       0.672619        0.02             0.375000           C2   \n2   ID00003       0.841110        0.02             0.384615           C3   \n3   ID00004       0.900277        0.11             0.432692           C4   \n4   ID00005       0.596403        0.11             0.634615           C5   \n\n   population_density  make segment model fuel_type  ... is_brake_assist  \\\n0                4990     1       A    M1       CNG  ...              No   \n1               27003     1       A    M1       CNG  ...              No   \n2                4076     1       A    M1       CNG  ...              No   \n3               21622     1      C1    M2    Petrol  ...             Yes   \n4               34738     2       A    M3    Petrol  ...              No   \n\n  is_power_door_locks is_central_locking  is_power_steering  \\\n0                  No                 No                Yes   \n1                  No                 No                Yes   \n2                  No                 No                Yes   \n3                 Yes                Yes                Yes   \n4                 Yes                Yes                Yes   \n\n  is_driver_seat_height_adjustable is_day_night_rear_view_mirror is_ecw  \\\n0                               No                            No     No   \n1                               No                            No     No   \n2                               No                            No     No   \n3                              Yes                           Yes    Yes   \n4                               No                           Yes    Yes   \n\n  is_speed_alert ncap_rating is_claim  \n0            Yes           0        0  \n1            Yes           0        0  \n2            Yes           0        0  \n3            Yes           2        0  \n4            Yes           2        0  \n\n[5 rows x 44 columns]",
      "text/html": "<div>\n<style scoped>\n    .dataframe tbody tr th:only-of-type {\n        vertical-align: middle;\n    }\n\n    .dataframe tbody tr th {\n        vertical-align: top;\n    }\n\n    .dataframe thead th {\n        text-align: right;\n    }\n</style>\n<table border=\"1\" class=\"dataframe\">\n  <thead>\n    <tr style=\"text-align: right;\">\n      <th></th>\n      <th>policy_id</th>\n      <th>policy_tenure</th>\n      <th>age_of_car</th>\n      <th>age_of_policyholder</th>\n      <th>area_cluster</th>\n      <th>population_density</th>\n      <th>make</th>\n      <th>segment</th>\n      <th>model</th>\n      <th>fuel_type</th>\n      <th>...</th>\n      <th>is_brake_assist</th>\n      <th>is_power_door_locks</th>\n      <th>is_central_locking</th>\n      <th>is_power_steering</th>\n      <th>is_driver_seat_height_adjustable</th>\n      <th>is_day_night_rear_view_mirror</th>\n      <th>is_ecw</th>\n      <th>is_speed_alert</th>\n      <th>ncap_rating</th>\n      <th>is_claim</th>\n    </tr>\n  </thead>\n  <tbody>\n    <tr>\n      <th>0</th>\n      <td>ID00001</td>\n      <td>0.515874</td>\n      <td>0.05</td>\n      <td>0.644231</td>\n      <td>C1</td>\n      <td>4990</td>\n      <td>1</td>\n      <td>A</td>\n      <td>M1</td>\n      <td>CNG</td>\n      <td>...</td>\n      <td>No</td>\n      <td>No</td>\n      <td>No</td>\n      <td>Yes</td>\n      <td>No</td>\n      <td>No</td>\n      <td>No</td>\n      <td>Yes</td>\n      <td>0</td>\n      <td>0</td>\n    </tr>\n    <tr>\n      <th>1</th>\n      <td>ID00002</td>\n      <td>0.672619</td>\n      <td>0.02</td>\n      <td>0.375000</td>\n      <td>C2</td>\n      <td>27003</td>\n      <td>1</td>\n      <td>A</td>\n      <td>M1</td>\n      <td>CNG</td>\n      <td>...</td>\n      <td>No</td>\n      <td>No</td>\n      <td>No</td>\n      <td>Yes</td>\n      <td>No</td>\n      <td>No</td>\n      <td>No</td>\n      <td>Yes</td>\n      <td>0</td>\n      <td>0</td>\n    </tr>\n    <tr>\n      <th>2</th>\n      <td>ID00003</td>\n      <td>0.841110</td>\n      <td>0.02</td>\n      <td>0.384615</td>\n      <td>C3</td>\n      <td>4076</td>\n      <td>1</td>\n      <td>A</td>\n      <td>M1</td>\n      <td>CNG</td>\n      <td>...</td>\n      <td>No</td>\n      <td>No</td>\n      <td>No</td>\n      <td>Yes</td>\n      <td>No</td>\n      <td>No</td>\n      <td>No</td>\n      <td>Yes</td>\n      <td>0</td>\n      <td>0</td>\n    </tr>\n    <tr>\n      <th>3</th>\n      <td>ID00004</td>\n      <td>0.900277</td>\n      <td>0.11</td>\n      <td>0.432692</td>\n      <td>C4</td>\n      <td>21622</td>\n      <td>1</td>\n      <td>C1</td>\n      <td>M2</td>\n      <td>Petrol</td>\n      <td>...</td>\n      <td>Yes</td>\n      <td>Yes</td>\n      <td>Yes</td>\n      <td>Yes</td>\n      <td>Yes</td>\n      <td>Yes</td>\n      <td>Yes</td>\n      <td>Yes</td>\n      <td>2</td>\n      <td>0</td>\n    </tr>\n    <tr>\n      <th>4</th>\n      <td>ID00005</td>\n      <td>0.596403</td>\n      <td>0.11</td>\n      <td>0.634615</td>\n      <td>C5</td>\n      <td>34738</td>\n      <td>2</td>\n      <td>A</td>\n      <td>M3</td>\n      <td>Petrol</td>\n      <td>...</td>\n      <td>No</td>\n      <td>Yes</td>\n      <td>Yes</td>\n      <td>Yes</td>\n      <td>No</td>\n      <td>Yes</td>\n      <td>Yes</td>\n      <td>Yes</td>\n      <td>2</td>\n      <td>0</td>\n    </tr>\n  </tbody>\n</table>\n<p>5 rows × 44 columns</p>\n</div>"
     },
     "execution_count": 33,
     "metadata": {},
     "output_type": "execute_result"
    }
   ],
   "source": [
    "o_data = pd.read_csv('train.csv')\n",
    "o_data.head()"
   ]
  },
  {
   "cell_type": "code",
   "execution_count": 34,
   "id": "57ab33bf",
   "metadata": {
    "ExecuteTime": {
     "end_time": "2024-04-18T09:06:28.816591Z",
     "start_time": "2024-04-18T09:06:28.803540Z"
    }
   },
   "outputs": [
    {
     "name": "stdout",
     "output_type": "stream",
     "text": [
      "Data Dims:  (58592, 44)\n"
     ]
    }
   ],
   "source": [
    "print(\"Data Dims: \", o_data.shape)"
   ]
  },
  {
   "cell_type": "code",
   "execution_count": 35,
   "id": "97b5d969",
   "metadata": {
    "ExecuteTime": {
     "end_time": "2024-04-18T09:06:28.832556Z",
     "start_time": "2024-04-18T09:06:28.823456Z"
    }
   },
   "outputs": [
    {
     "name": "stdout",
     "output_type": "stream",
     "text": [
      "policy_id                            object\n",
      "policy_tenure                       float64\n",
      "age_of_car                          float64\n",
      "age_of_policyholder                 float64\n",
      "area_cluster                         object\n",
      "population_density                    int64\n",
      "make                                  int64\n",
      "segment                              object\n",
      "model                                object\n",
      "fuel_type                            object\n",
      "max_torque                           object\n",
      "max_power                            object\n",
      "engine_type                          object\n",
      "airbags                               int64\n",
      "is_esc                               object\n",
      "is_adjustable_steering               object\n",
      "is_tpms                              object\n",
      "is_parking_sensors                   object\n",
      "is_parking_camera                    object\n",
      "rear_brakes_type                     object\n",
      "displacement                          int64\n",
      "cylinder                              int64\n",
      "transmission_type                    object\n",
      "gear_box                              int64\n",
      "steering_type                        object\n",
      "turning_radius                      float64\n",
      "length                                int64\n",
      "width                                 int64\n",
      "height                                int64\n",
      "gross_weight                          int64\n",
      "is_front_fog_lights                  object\n",
      "is_rear_window_wiper                 object\n",
      "is_rear_window_washer                object\n",
      "is_rear_window_defogger              object\n",
      "is_brake_assist                      object\n",
      "is_power_door_locks                  object\n",
      "is_central_locking                   object\n",
      "is_power_steering                    object\n",
      "is_driver_seat_height_adjustable     object\n",
      "is_day_night_rear_view_mirror        object\n",
      "is_ecw                               object\n",
      "is_speed_alert                       object\n",
      "ncap_rating                           int64\n",
      "is_claim                              int64\n",
      "dtype: object\n"
     ]
    }
   ],
   "source": [
    "print(o_data.dtypes)"
   ]
  },
  {
   "cell_type": "code",
   "execution_count": 36,
   "id": "f6607eda",
   "metadata": {
    "ExecuteTime": {
     "end_time": "2024-04-18T09:06:28.953132Z",
     "start_time": "2024-04-18T09:06:28.834569Z"
    }
   },
   "outputs": [
    {
     "name": "stdout",
     "output_type": "stream",
     "text": [
      "Number of null values in each column: \n",
      "policy_id                           0\n",
      "policy_tenure                       0\n",
      "age_of_car                          0\n",
      "age_of_policyholder                 0\n",
      "area_cluster                        0\n",
      "population_density                  0\n",
      "make                                0\n",
      "segment                             0\n",
      "model                               0\n",
      "fuel_type                           0\n",
      "max_torque                          0\n",
      "max_power                           0\n",
      "engine_type                         0\n",
      "airbags                             0\n",
      "is_esc                              0\n",
      "is_adjustable_steering              0\n",
      "is_tpms                             0\n",
      "is_parking_sensors                  0\n",
      "is_parking_camera                   0\n",
      "rear_brakes_type                    0\n",
      "displacement                        0\n",
      "cylinder                            0\n",
      "transmission_type                   0\n",
      "gear_box                            0\n",
      "steering_type                       0\n",
      "turning_radius                      0\n",
      "length                              0\n",
      "width                               0\n",
      "height                              0\n",
      "gross_weight                        0\n",
      "is_front_fog_lights                 0\n",
      "is_rear_window_wiper                0\n",
      "is_rear_window_washer               0\n",
      "is_rear_window_defogger             0\n",
      "is_brake_assist                     0\n",
      "is_power_door_locks                 0\n",
      "is_central_locking                  0\n",
      "is_power_steering                   0\n",
      "is_driver_seat_height_adjustable    0\n",
      "is_day_night_rear_view_mirror       0\n",
      "is_ecw                              0\n",
      "is_speed_alert                      0\n",
      "ncap_rating                         0\n",
      "is_claim                            0\n",
      "dtype: int64\n"
     ]
    }
   ],
   "source": [
    "#Check for presence of null values in the dataset\n",
    "print(\"Number of null values in each column: \")\n",
    "print(o_data.isnull().sum())"
   ]
  },
  {
   "cell_type": "code",
   "outputs": [],
   "source": [],
   "metadata": {
    "collapsed": false,
    "ExecuteTime": {
     "end_time": "2024-04-18T09:06:28.959768Z",
     "start_time": "2024-04-18T09:06:28.955724Z"
    }
   },
   "id": "1492166f4af3af94",
   "execution_count": 36
  },
  {
   "cell_type": "markdown",
   "id": "4453796f",
   "metadata": {},
   "source": [
    "Since there are no null values within the dataset, there are no columns that need to be removed due to invalid data."
   ]
  },
  {
   "cell_type": "code",
   "execution_count": 37,
   "id": "ddeade31",
   "metadata": {
    "ExecuteTime": {
     "end_time": "2024-04-18T09:06:29.202461Z",
     "start_time": "2024-04-18T09:06:28.963785Z"
    }
   },
   "outputs": [
    {
     "name": "stdout",
     "output_type": "stream",
     "text": [
      "Number of rows that are duplicates: \n",
      "0\n"
     ]
    }
   ],
   "source": [
    "#Check for duplicate rows \n",
    "print(\"Number of rows that are duplicates: \")\n",
    "print(o_data.duplicated().sum())"
   ]
  },
  {
   "cell_type": "markdown",
   "id": "97cfc9ae",
   "metadata": {},
   "source": [
    "Since the number of duplicates = 0, we can conclude that each set of data within the dataset is unique."
   ]
  },
  {
   "cell_type": "code",
   "execution_count": 38,
   "id": "e921182f",
   "metadata": {
    "ExecuteTime": {
     "end_time": "2024-04-18T09:06:29.216737Z",
     "start_time": "2024-04-18T09:06:29.204365Z"
    }
   },
   "outputs": [
    {
     "name": "stdout",
     "output_type": "stream",
     "text": [
      "is_claim\n",
      "0    54844\n",
      "1     3748\n",
      "Name: count, dtype: int64\n"
     ]
    }
   ],
   "source": [
    "#Finding the ratio of claims vs no claims\n",
    "class_freq = o_data['is_claim'].value_counts()\n",
    "print(class_freq)"
   ]
  },
  {
   "cell_type": "code",
   "execution_count": 39,
   "id": "f588d70a",
   "metadata": {
    "ExecuteTime": {
     "end_time": "2024-04-18T09:06:29.221610Z",
     "start_time": "2024-04-18T09:06:29.218026Z"
    }
   },
   "outputs": [
    {
     "name": "stdout",
     "output_type": "stream",
     "text": [
      "Ratio of Class 0 to Class 1: 14.63\n"
     ]
    }
   ],
   "source": [
    "class_ratio = class_freq[0]/class_freq[1]\n",
    "print(\"Ratio of Class 0 to Class 1: {:.2f}\".format(class_ratio))"
   ]
  },
  {
   "cell_type": "code",
   "execution_count": 40,
   "id": "5773b9c9",
   "metadata": {
    "ExecuteTime": {
     "end_time": "2024-04-18T09:06:29.587124Z",
     "start_time": "2024-04-18T09:06:29.228184Z"
    }
   },
   "outputs": [
    {
     "data": {
      "text/plain": "<Figure size 640x480 with 1 Axes>",
      "image/png": "[encoded data removed]"
     },
     "metadata": {},
     "output_type": "display_data"
    }
   ],
   "source": [
    "fig = plt.figure(facecolor ='white')\n",
    "ax = fig.add_subplot(1,1,1, facecolor = 'white')\n",
    "plt.pie((class_freq), labels=['No Claim', 'Claim'], radius = 1, colors = ['gray', 'pink'], autopct = '%1.1f%%', explode = [0.1, 0.015], labeldistance = 1.15, startangle = 45, textprops={'fontsize':15, 'fontweight': 'bold'})\n",
    "plt.legend(title='Outcome:', loc='upper right', bbox_to_anchor=(1.6,1))\n",
    "fig.patch.set_facecolor('white')\n",
    "plt.show()"
   ]
  },
  {
   "cell_type": "markdown",
   "id": "d740534b",
   "metadata": {},
   "source": [
    "Due to the large class imbalance in the response variable 'is_claim', we need to fix this to prevent further problems for classification models. "
   ]
  },
  {
   "cell_type": "code",
   "execution_count": 41,
   "id": "d936496c",
   "metadata": {
    "ExecuteTime": {
     "end_time": "2024-04-18T09:06:29.825682Z",
     "start_time": "2024-04-18T09:06:29.590822Z"
    }
   },
   "outputs": [],
   "source": [
    "no_claim = o_data.drop(o_data[o_data['is_claim']==1].index)\n",
    "claim = o_data.drop(o_data[o_data['is_claim']==0].index)"
   ]
  },
  {
   "cell_type": "code",
   "execution_count": 49,
   "id": "fac07896",
   "metadata": {
    "ExecuteTime": {
     "end_time": "2024-04-18T10:41:43.563604Z",
     "start_time": "2024-04-18T10:41:41.927876Z"
    }
   },
   "outputs": [
    {
     "name": "stdout",
     "output_type": "stream",
     "text": [
      "<class 'pandas.core.frame.DataFrame'>\n",
      "RangeIndex: 58592 entries, 0 to 58591\n",
      "Data columns (total 60 columns):\n",
      " #   Column                       Non-Null Count  Dtype  \n",
      "---  ------                       --------------  -----  \n",
      " 0   area_cluster_C1              58592 non-null  float64\n",
      " 1   area_cluster_C10             58592 non-null  float64\n",
      " 2   area_cluster_C11             58592 non-null  float64\n",
      " 3   area_cluster_C12             58592 non-null  float64\n",
      " 4   area_cluster_C13             58592 non-null  float64\n",
      " 5   area_cluster_C14             58592 non-null  float64\n",
      " 6   area_cluster_C15             58592 non-null  float64\n",
      " 7   area_cluster_C16             58592 non-null  float64\n",
      " 8   area_cluster_C17             58592 non-null  float64\n",
      " 9   area_cluster_C18             58592 non-null  float64\n",
      " 10  area_cluster_C19             58592 non-null  float64\n",
      " 11  area_cluster_C2              58592 non-null  float64\n",
      " 12  area_cluster_C20             58592 non-null  float64\n",
      " 13  area_cluster_C21             58592 non-null  float64\n",
      " 14  area_cluster_C22             58592 non-null  float64\n",
      " 15  area_cluster_C3              58592 non-null  float64\n",
      " 16  area_cluster_C4              58592 non-null  float64\n",
      " 17  area_cluster_C5              58592 non-null  float64\n",
      " 18  area_cluster_C6              58592 non-null  float64\n",
      " 19  area_cluster_C7              58592 non-null  float64\n",
      " 20  area_cluster_C8              58592 non-null  float64\n",
      " 21  area_cluster_C9              58592 non-null  float64\n",
      " 22  segment_A                    58592 non-null  float64\n",
      " 23  segment_B1                   58592 non-null  float64\n",
      " 24  segment_B2                   58592 non-null  float64\n",
      " 25  segment_C1                   58592 non-null  float64\n",
      " 26  segment_C2                   58592 non-null  float64\n",
      " 27  segment_Utility              58592 non-null  float64\n",
      " 28  model_M1                     58592 non-null  float64\n",
      " 29  model_M10                    58592 non-null  float64\n",
      " 30  model_M11                    58592 non-null  float64\n",
      " 31  model_M2                     58592 non-null  float64\n",
      " 32  model_M3                     58592 non-null  float64\n",
      " 33  model_M4                     58592 non-null  float64\n",
      " 34  model_M5                     58592 non-null  float64\n",
      " 35  model_M6                     58592 non-null  float64\n",
      " 36  model_M7                     58592 non-null  float64\n",
      " 37  model_M8                     58592 non-null  float64\n",
      " 38  model_M9                     58592 non-null  float64\n",
      " 39  fuel_type_CNG                58592 non-null  float64\n",
      " 40  fuel_type_Diesel             58592 non-null  float64\n",
      " 41  fuel_type_Petrol             58592 non-null  float64\n",
      " 42  max_torque_113Nm@4400rpm     58592 non-null  float64\n",
      " 43  max_torque_170Nm@4000rpm     58592 non-null  float64\n",
      " 44  max_torque_200Nm@1750rpm     58592 non-null  float64\n",
      " 45  max_torque_200Nm@3000rpm     58592 non-null  float64\n",
      " 46  max_torque_250Nm@2750rpm     58592 non-null  float64\n",
      " 47  max_torque_60Nm@3500rpm      58592 non-null  float64\n",
      " 48  max_torque_82.1Nm@3400rpm    58592 non-null  float64\n",
      " 49  max_torque_85Nm@3000rpm      58592 non-null  float64\n",
      " 50  max_torque_91Nm@4250rpm      58592 non-null  float64\n",
      " 51  max_power_113.45bhp@4000rpm  58592 non-null  float64\n",
      " 52  max_power_118.36bhp@5500rpm  58592 non-null  float64\n",
      " 53  max_power_40.36bhp@6000rpm   58592 non-null  float64\n",
      " 54  max_power_55.92bhp@5300rpm   58592 non-null  float64\n",
      " 55  max_power_61.68bhp@6000rpm   58592 non-null  float64\n",
      " 56  max_power_67.06bhp@5500rpm   58592 non-null  float64\n",
      " 57  max_power_88.50bhp@6000rpm   58592 non-null  float64\n",
      " 58  max_power_88.77bhp@4000rpm   58592 non-null  float64\n",
      " 59  max_power_97.89bhp@3600rpm   58592 non-null  float64\n",
      "dtypes: float64(60)\n",
      "memory usage: 26.8 MB\n"
     ]
    },
    {
     "data": {
      "text/plain": "<Figure size 640x480 with 1 Axes>",
      "image/png": "[encoded data removed]"
     },
     "metadata": {},
     "output_type": "display_data"
    }
   ],
   "source": [
    "\n",
    "from sklearn.preprocessing import OneHotEncoder\n",
    "\n",
    "ohe = OneHotEncoder()\n",
    "\n",
    "cat_features = o_data[['area_cluster', 'segment', 'model', 'fuel_type', 'max_torque', 'max_power']]\n",
    "\n",
    "num_data = o_data[['age_of_car', 'age_of_policyholder', 'policy_tenure', 'is_claim']]\n",
    "\n",
    "# OneHotEncoding of categorical predictors (not the response)\n",
    "ohe.fit(cat_features)\n",
    "cat_features_ohe = pd.DataFrame(ohe.transform(cat_features).toarray(),\n",
    "                                columns=ohe.get_feature_names_out(cat_features.columns))\n",
    "\n",
    "# Check the encoded variables\n",
    "cat_features_ohe.info()\n",
    "total_features_ohe = pd.concat([num_data, cat_features_ohe],\n",
    "                               sort = False, axis = 1).reindex(index=num_data.index)\n",
    "\n",
    "from sklearn.utils import resample\n",
    "\n",
    "claim = total_features_ohe[total_features_ohe['is_claim'] == 1]\n",
    "nclaim = total_features_ohe[total_features_ohe['is_claim'] == 0]\n",
    "\n",
    "# Downsample the majority class (no claim)\n",
    "nclaim_downsampled = resample(nclaim,\n",
    "                              replace=False,    # Sample without replacement\n",
    "                              n_samples=len(claim),  # Match minority class size\n",
    "                              random_state=1)   # Reproducible results\n",
    "\n",
    "# Combine minority class (claim) with downsampled majority class (no claim)\n",
    "final_train = pd.concat([claim, nclaim_downsampled])\n",
    "\n",
    "# Plot the downsampled data\n",
    "plt.pie(final_train['is_claim'].value_counts(), labels=['Claim', 'No Claim'],\n",
    "        autopct='%1.2f%%', explode=[0.05] * 2)\n",
    "plt.title(\"Distribution of Claim vs No Claim After Downsampling\")\n",
    "plt.show()"
   ]
  },
  {
   "cell_type": "code",
   "execution_count": 50,
   "id": "ceeec7d3",
   "metadata": {
    "ExecuteTime": {
     "end_time": "2024-04-18T10:42:44.544054Z",
     "start_time": "2024-04-18T10:42:43.625159Z"
    }
   },
   "outputs": [
    {
     "name": "stdout",
     "output_type": "stream",
     "text": [
      "Train Data\n",
      "Accuracy  :\t 0.644076840981857\n",
      "\n",
      "TPR Train :\t 0.7533807829181495\n",
      "TNR Train :\t 0.534850640113798\n",
      "\n",
      "FPR Train :\t 0.465149359886202\n",
      "FNR Train :\t 0.24661921708185053\n"
     ]
    },
    {
     "data": {
      "text/plain": "<Axes: >"
     },
     "execution_count": 50,
     "metadata": {},
     "output_type": "execute_result"
    },
    {
     "data": {
      "text/plain": "<Figure size 640x480 with 2 Axes>",
      "image/png": "[encoded data removed]"
     },
     "metadata": {},
     "output_type": "display_data"
    }
   ],
   "source": [
    "from sklearn.ensemble import RandomForestClassifier\n",
    "\n",
    "rforest = RandomForestClassifier(n_estimators=100, max_depth=5, random_state=0)\n",
    "\n",
    "from sklearn.model_selection import train_test_split\n",
    "from sklearn.metrics import accuracy_score\n",
    "\n",
    "y = final_train['is_claim']\n",
    "x = final_train.drop('is_claim', axis=1)\n",
    "# Split the Dataset into Train and Test\n",
    "x_train, x_test, y_train, y_test = train_test_split(x, y, test_size=0.25, random_state=0)\n",
    "\n",
    "rforest.fit(x_train, y_train)\n",
    "# Predict the Response corresponding to Predictors\n",
    "y_train_pred = rforest.predict(x_train)\n",
    "\n",
    "# Print the Classification Accuracy\n",
    "print(\"Train Data\")\n",
    "print(\"Accuracy  :\\t\", rforest.score(x_train, y_train))\n",
    "print()\n",
    "\n",
    "from sklearn.metrics import confusion_matrix\n",
    "# Print the Accuracy Measures from the Confusion Matrix\n",
    "cmTrain = confusion_matrix(y_train, y_train_pred)\n",
    "tpTrain = cmTrain[1][1]  # True Positives : Good (1) predicted Good (1)\n",
    "fpTrain = cmTrain[0][1]  # False Positives : Bad (0) predicted Good (1)\n",
    "tnTrain = cmTrain[0][0]  # True Negatives : Bad (0) predicted Bad (0)\n",
    "fnTrain = cmTrain[1][0]  # False Negatives : Good (1) predicted Bad (0)\n",
    "\n",
    "print(\"TPR Train :\\t\", (tpTrain / (tpTrain + fnTrain)))\n",
    "print(\"TNR Train :\\t\", (tnTrain / (tnTrain + fpTrain)))\n",
    "print()\n",
    "\n",
    "print(\"FPR Train :\\t\", (fpTrain / (tnTrain + fpTrain)))\n",
    "print(\"FNR Train :\\t\", (fnTrain / (tpTrain + fnTrain)))\n",
    "\n",
    "# Plot the two-way Confusion Matrix\n",
    "sb.heatmap(confusion_matrix(y_train, y_train_pred),\n",
    "           annot=True, fmt=\".0f\", annot_kws={\"size\": 18})\n"
   ]
  },
  {
   "cell_type": "code",
   "outputs": [
    {
     "name": "stdout",
     "output_type": "stream",
     "text": [
      "TPR Train :\t 0.7533807829181495\n",
      "TNR Train :\t 0.534850640113798\n",
      "\n",
      "FPR Train :\t 0.465149359886202\n",
      "FNR Train :\t 0.24661921708185053\n",
      "Test Accuracy  :\t 0.6067235859124867\n"
     ]
    },
    {
     "data": {
      "text/plain": "<Figure size 640x480 with 2 Axes>",
      "image/png": "[encoded data removed]"
     },
     "metadata": {},
     "output_type": "display_data"
    }
   ],
   "source": [
    "#Next, we want to find the optimal hyperparamaters for n_estimators, max_depth and max_features for our Random Forest model to improve accuracy of our model. To do this, we use GridSearchCV to iterate through different hyperparameter configurations to find the ideal set of hyperparameters\n",
    "from sklearn.model_selection import GridSearchCV\n",
    "from sklearn.metrics import accuracy_score\n",
    "#Define the hyperparamter grid \n",
    "p_grid = {\n",
    "    'n_estimators': [100, 200, 300],\n",
    "    'max_depth': [3, 4, 5],\n",
    "    'max_features': ['sqrt', 'log2']\n",
    "}\n",
    "\n",
    "rf = RandomForestClassifier(random_state = 0)\n",
    "#Create Guided Search across the hyperparameter grid through 5 cross validation folds \n",
    "g_search = GridSearchCV(estimator=rf, param_grid=p_grid,cv= 5)\n",
    "#Fit the Guided Search on Training Data \n",
    "g_search.fit(x_train, y_train)\n",
    "best_param = g_search.best_params_\n",
    "best_rf = g_search.best_estimator_\n",
    "\n",
    "y_test_pred = best_rf.predict(x_test)\n",
    "\n",
    "from sklearn.metrics import confusion_matrix\n",
    "# Print the Accuracy Measures from the Confusion Matrix\n",
    "cmTrain = confusion_matrix(y_train, y_train_pred)\n",
    "tpTrain = cmTrain[1][1]  # True Positives : Good (1) predicted Good (1)\n",
    "fpTrain = cmTrain[0][1]  # False Positives : Bad (0) predicted Good (1)\n",
    "tnTrain = cmTrain[0][0]  # True Negatives : Bad (0) predicted Bad (0)\n",
    "fnTrain = cmTrain[1][0]  # False Negatives : Good (1) predicted Bad (0)\n",
    "\n",
    "print(\"TPR Train :\\t\", (tpTrain / (tpTrain + fnTrain)))\n",
    "print(\"TNR Train :\\t\", (tnTrain / (tnTrain + fpTrain)))\n",
    "print()\n",
    "\n",
    "print(\"FPR Train :\\t\", (fpTrain / (tnTrain + fpTrain)))\n",
    "print(\"FNR Train :\\t\", (fnTrain / (tpTrain + fnTrain)))\n",
    "\n",
    "# Plot the two-way Confusion Matrix\n",
    "sb.heatmap(confusion_matrix(y_train, y_train_pred),\n",
    "           annot=True, fmt=\".0f\", annot_kws={\"size\": 18})\n",
    "\n",
    "# Print the Classification Accuracy\n",
    "print(\"Test Accuracy  :\\t\", accuracy_score(y_test_pred, y_test))\n",
    "print()\n",
    "\n"
   ],
   "metadata": {
    "collapsed": false,
    "ExecuteTime": {
     "end_time": "2024-04-18T10:43:25.923633Z",
     "start_time": "2024-04-18T10:42:51.240101Z"
    }
   },
   "id": "970dec7758e6cc72",
   "execution_count": 51
  },
  {
   "cell_type": "code",
   "outputs": [
    {
     "name": "stdout",
     "output_type": "stream",
     "text": [
      "Test Accuracy: 0.5740646196484575\n"
     ]
    }
   ],
   "source": [
    "from sklearn.linear_model import LogisticRegression\n",
    "from sklearn.metrics import accuracy_score\n",
    "\n",
    "\n",
    "log = LogisticRegression(max_iter = 2000, random_state = 0)\n",
    "log.fit(x_train, y_train)\n",
    "\n",
    "\n",
    "log_test_pred = log.predict(x_test)\n",
    "log_acc_test = accuracy_score(log_test_pred, y_test)\n",
    "print(\"Test Accuracy:\",log_acc_test)"
   ],
   "metadata": {
    "collapsed": false,
    "ExecuteTime": {
     "end_time": "2024-04-18T09:12:31.833175Z",
     "start_time": "2024-04-18T09:12:30.634267Z"
    }
   },
   "id": "84877f7c8dbbf27b",
   "execution_count": 45
  },
  {
   "cell_type": "code",
   "outputs": [
    {
     "name": "stdout",
     "output_type": "stream",
     "text": [
      "Test Accuracy: 0.5740646196484575\n"
     ]
    }
   ],
   "source": [
    "from sklearn.naive_bayes import GaussianNB\n",
    "\n",
    "#Build a Gaussian Naive Bayes Classifier \n",
    "nb = GaussianNB()\n",
    "nb.fit(x_train,y_train)\n",
    "\n",
    "nb_test_pred = nb.predict(x_test)\n",
    "nb_acc_test = accuracy_score(log_test_pred, y_test)\n",
    "print(\"Test Accuracy:\",nb_acc_test)"
   ],
   "metadata": {
    "collapsed": false,
    "ExecuteTime": {
     "end_time": "2024-04-18T09:12:32.029652Z",
     "start_time": "2024-04-18T09:12:31.836321Z"
    }
   },
   "id": "e65245a071ef6113",
   "execution_count": 46
  },
  {
   "cell_type": "code",
   "outputs": [
    {
     "name": "stdout",
     "output_type": "stream",
     "text": [
      "Accuracy: 0.57 [Logistic Regression]\n",
      "Accuracy: 0.62 [Random Forest]\n",
      "Accuracy: 0.53 [Naive Bayes]\n",
      "Accuracy: 0.60 [Voting_Classifier_Hard]\n",
      "Accuracy: 0.55 [Voting_Classifier_Soft]\n"
     ]
    }
   ],
   "source": [
    "#Creation of Voting Classifier \n",
    "from sklearn.ensemble import VotingClassifier\n",
    "from sklearn import model_selection\n",
    "#Using the three classifiers we have created of RandomForest, Logistic Regression and Naive Bayes as ensemble of Classifiers\n",
    "clf1 = log\n",
    "clf2 = best_rf\n",
    "clf3 = nb\n",
    "# Create a list of labels\n",
    "labels = ['Logistic Regression', 'Random Forest', 'Naive Bayes',\n",
    "          'Voting_Classifier_Hard', 'Voting_Classifier_Soft']\n",
    "# Create a Hard Voting Classifier\n",
    "voting_clf_hard = VotingClassifier(\n",
    "    estimators=[\n",
    "        (labels[0], clf1),  # Include the first classifier (Logistic Regression)\n",
    "        (labels[1], clf2),  # Include the second classifier (Random Forest)\n",
    "        (labels[2], clf3),  # Include the third classifier (Naive Bayes)\n",
    "    ],\n",
    "    voting='hard'  # Specify hard voting, where the majority class prediction is chosen\n",
    ")\n",
    "\n",
    "# Create a Soft Voting Classifier\n",
    "voting_clf_soft = VotingClassifier(\n",
    "    estimators=[\n",
    "        (labels[0], clf1),  # Include the first classifier (Logistic Regression)\n",
    "        (labels[1], clf2),  # Include the second classifier (Random Forest)\n",
    "        (labels[2], clf3),  # Include the third classifier (Naive Bayes)\n",
    "    ],\n",
    "    voting='soft'  # Specify soft voting, where class probabilities are combined\n",
    ")\n",
    "\n",
    "\n",
    "# Loop through the classifiers and perform 5-fold cross-validation for each\n",
    "for clf, label in zip([clf1, clf2, clf3, voting_clf_hard, voting_clf_soft], labels):\n",
    "    clf.fit(x_train,y_train)\n",
    "    y_test_pred = clf.predict(x_test)\n",
    "    print(\"Accuracy: %0.2f [%s]\" % (accuracy_score(y_test, y_test_pred), label))"
   ],
   "metadata": {
    "collapsed": false,
    "ExecuteTime": {
     "end_time": "2024-04-18T09:12:43.378928Z",
     "start_time": "2024-04-18T09:12:32.031328Z"
    }
   },
   "id": "b109eedd524a77",
   "execution_count": 47
  },
  {
   "cell_type": "code",
   "outputs": [],
   "source": [],
   "metadata": {
    "collapsed": false
   },
   "id": "9f4618a7a63ee2ab"
  },
  {
   "cell_type": "code",
   "outputs": [],
   "source": [],
   "metadata": {
    "collapsed": false
   },
   "id": "f18ad81fb5d3eab8"
  },
  {
   "cell_type": "code",
   "execution_count": null,
   "id": "97284133",
   "metadata": {
    "ExecuteTime": {
     "end_time": "2024-04-18T05:35:40.089624Z",
     "start_time": "2024-04-18T05:35:40.089559Z"
    }
   },
   "outputs": [],
   "source": []
  },
  {
   "cell_type": "code",
   "execution_count": null,
   "id": "6896bcce",
   "metadata": {
    "ExecuteTime": {
     "end_time": "2024-04-18T05:35:40.090143Z",
     "start_time": "2024-04-18T05:35:40.090085Z"
    }
   },
   "outputs": [],
   "source": []
  },
  {
   "cell_type": "code",
   "outputs": [],
   "source": [],
   "metadata": {
    "collapsed": false
   },
   "id": "efb567f709457f8c"
  }
 ],
 "metadata": {
  "kernelspec": {
   "display_name": "Python 3 (ipykernel)",
   "language": "python",
   "name": "python3"
  },
  "language_info": {
   "codemirror_mode": {
    "name": "ipython",
    "version": 3
   },
   "file_extension": ".py",
   "mimetype": "text/x-python",
   "name": "python",
   "nbconvert_exporter": "python",
   "pygments_lexer": "ipython3",
   "version": "3.11.5"
  }
 },
 "nbformat": 4,
 "nbformat_minor": 5
}
