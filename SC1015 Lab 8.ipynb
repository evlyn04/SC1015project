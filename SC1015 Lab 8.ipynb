{
 "cells": [
  {
   "cell_type": "code",
   "execution_count": 3,
   "id": "f26cafaf",
   "metadata": {},
   "outputs": [],
   "source": [
    "N = VER = 8\n",
    "HOR = 1\n",
    "\n",
    "def show(state, N=N):\n",
    "    \"Print a representation of a state as an NxN grid.\"\n",
    "    # Initialize and fill in the board.\n",
    "    board = ['.'] * N**2\n",
    "    for (c, squares) in state:\n",
    "        for s in squares:\n",
    "            board[s] = c\n",
    "    # Now print it out\n",
    "    for i,s in enumerate(board):\n",
    "        print(s)\n",
    "        if i % N == N - 1: print"
   ]
  },
  {
   "cell_type": "code",
   "execution_count": null,
   "id": "6e868b86",
   "metadata": {},
   "outputs": [],
   "source": []
  }
 ],
 "metadata": {
  "kernelspec": {
   "display_name": "Python 3 (ipykernel)",
   "language": "python",
   "name": "python3"
  },
  "language_info": {
   "codemirror_mode": {
    "name": "ipython",
    "version": 3
   },
   "file_extension": ".py",
   "mimetype": "text/x-python",
   "name": "python",
   "nbconvert_exporter": "python",
   "pygments_lexer": "ipython3",
   "version": "3.11.5"
  }
 },
 "nbformat": 4,
 "nbformat_minor": 5
}
